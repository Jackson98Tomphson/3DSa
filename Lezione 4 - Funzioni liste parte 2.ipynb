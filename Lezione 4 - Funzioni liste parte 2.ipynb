{
 "cells": [
  {
   "cell_type": "markdown",
   "metadata": {},
   "source": [
    "# Togliere elementi"
   ]
  },
  {
   "cell_type": "markdown",
   "metadata": {},
   "source": [
    "## Remove()\n",
    "Il metodo `remove()` rimuove l'elemento specificato.\n",
    "\n",
    "### Esempio\n",
    "    Rimuovi \"banana\":"
   ]
  },
  {
   "cell_type": "code",
   "execution_count": 1,
   "metadata": {},
   "outputs": [
    {
     "name": "stdout",
     "output_type": "stream",
     "text": [
      "['mela', 'ciliegia']\n"
     ]
    }
   ],
   "source": [
    "thislist = [\"mela\", \"banana\", \"ciliegia\"]\n",
    "thislist.remove(\"banana\")\n",
    "print(thislist)"
   ]
  },
  {
   "cell_type": "markdown",
   "metadata": {},
   "source": [
    "Se ci sono più elementi con il valore specificato, il metodo `remove()` rimuove la prima occorrenza, ovvero il primo elemento che trova nella lista con quel nome.\n",
    "\n",
    "### Esempio\n",
    "    Rimuovi la prima occorrenza di \"banana\":"
   ]
  },
  {
   "cell_type": "code",
   "execution_count": 2,
   "metadata": {},
   "outputs": [
    {
     "name": "stdout",
     "output_type": "stream",
     "text": [
      "['mela', 'ciliegia', 'banana', 'kiwi']\n"
     ]
    }
   ],
   "source": [
    "thislist = [\"mela\", \"banana\", \"ciliegia\", \"banana\", \"kiwi\"]\n",
    "thislist.remove(\"banana\")\n",
    "print(thislist)"
   ]
  },
  {
   "cell_type": "markdown",
   "metadata": {},
   "source": [
    "## Remove() dell'Indice Specificato\n",
    "Il metodo `pop()` rimuove all'indice specificato fra parentesi.\n",
    "\n",
    "### Esempio\n",
    "    Rimuovi il secondo elemento:"
   ]
  },
  {
   "cell_type": "code",
   "execution_count": 3,
   "metadata": {},
   "outputs": [
    {
     "name": "stdout",
     "output_type": "stream",
     "text": [
      "['mela', 'banana', 'ciliegia']\n",
      "['mela', 'ciliegia']\n"
     ]
    }
   ],
   "source": [
    "thislist = [\"mela\", \"banana\", \"ciliegia\"]\n",
    "print(thislist)\n",
    "thislist.pop(1)\n",
    "print(thislist)"
   ]
  },
  {
   "cell_type": "markdown",
   "metadata": {},
   "source": [
    "Quando invece non specificato l'indice, il metodo `pop()` rimuove l'ultimo elemento.\n",
    "\n",
    "### Esempio\n",
    "Rimuovi l'ultimo elemento:"
   ]
  },
  {
   "cell_type": "code",
   "execution_count": 4,
   "metadata": {},
   "outputs": [
    {
     "name": "stdout",
     "output_type": "stream",
     "text": [
      "['mela', 'banana', 'ciliegia']\n",
      "['mela', 'banana']\n"
     ]
    }
   ],
   "source": [
    "thislist = [\"mela\", \"banana\", \"ciliegia\"]\n",
    "print(thislist)\n",
    "thislist.pop()\n",
    "print(thislist)"
   ]
  },
  {
   "cell_type": "markdown",
   "metadata": {},
   "source": [
    "## Particolarità: la parola chiave `del` \n",
    "\n",
    "La keyword `del` rimuove l'indice specificato.\n",
    "\n",
    "### Esempio\n",
    "    Rimuovi il primo elemento:"
   ]
  },
  {
   "cell_type": "code",
   "execution_count": 5,
   "metadata": {},
   "outputs": [
    {
     "name": "stdout",
     "output_type": "stream",
     "text": [
      "['mela', 'banana', 'ciliegia']\n",
      "['banana', 'ciliegia']\n"
     ]
    }
   ],
   "source": [
    "thislist = [\"mela\", \"banana\", \"ciliegia\"]\n",
    "print(thislist)\n",
    "del thislist[0]\n",
    "print(thislist)"
   ]
  },
  {
   "cell_type": "markdown",
   "metadata": {},
   "source": [
    "Ma attenzione, la keyword `del` può anche eliminare completamente la lista.\n",
    "\n",
    "### Esempio\n",
    "    Elimina l'intera lista:"
   ]
  },
  {
   "cell_type": "code",
   "execution_count": 6,
   "metadata": {},
   "outputs": [
    {
     "name": "stdout",
     "output_type": "stream",
     "text": [
      "['mela', 'banana', 'ciliegia']\n"
     ]
    },
    {
     "ename": "NameError",
     "evalue": "name 'thislist' is not defined",
     "output_type": "error",
     "traceback": [
      "\u001b[1;31m---------------------------------------------------------------------------\u001b[0m",
      "\u001b[1;31mNameError\u001b[0m                                 Traceback (most recent call last)",
      "\u001b[1;32mc:\\Users\\jacks\\Desktop\\Lezioni Liste\\Lezione 4.ipynb Cell 13\u001b[0m line \u001b[0;36m4\n\u001b[0;32m      <a href='vscode-notebook-cell:/c%3A/Users/jacks/Desktop/Lezioni%20Liste/Lezione%204.ipynb#X15sZmlsZQ%3D%3D?line=1'>2</a>\u001b[0m \u001b[39mprint\u001b[39m(thislist)\n\u001b[0;32m      <a href='vscode-notebook-cell:/c%3A/Users/jacks/Desktop/Lezioni%20Liste/Lezione%204.ipynb#X15sZmlsZQ%3D%3D?line=2'>3</a>\u001b[0m \u001b[39mdel\u001b[39;00m thislist\n\u001b[1;32m----> <a href='vscode-notebook-cell:/c%3A/Users/jacks/Desktop/Lezioni%20Liste/Lezione%204.ipynb#X15sZmlsZQ%3D%3D?line=3'>4</a>\u001b[0m \u001b[39mprint\u001b[39m(thislist)\n",
      "\u001b[1;31mNameError\u001b[0m: name 'thislist' is not defined"
     ]
    }
   ],
   "source": [
    "thislist = [\"mela\", \"banana\", \"ciliegia\"]\n",
    "print(thislist)\n",
    "del thislist\n",
    "print(thislist)"
   ]
  },
  {
   "cell_type": "markdown",
   "metadata": {},
   "source": [
    "## Clear()\n",
    "Il metodo `clear()` svuota la lista.\n",
    "\n",
    "La lista rimane comunque, ma non ha più contenuto.\n",
    "\n",
    "### Esempio\n",
    "    Svuota il contenuto della lista:\n"
   ]
  },
  {
   "cell_type": "code",
   "execution_count": 7,
   "metadata": {},
   "outputs": [
    {
     "name": "stdout",
     "output_type": "stream",
     "text": [
      "[]\n"
     ]
    }
   ],
   "source": [
    "thislist = [\"mela\", \"banana\", \"ciliegia\"]\n",
    "thislist.clear()\n",
    "print(thislist)"
   ]
  },
  {
   "cell_type": "markdown",
   "metadata": {},
   "source": [
    "# Iterazione degli elementi"
   ]
  },
  {
   "cell_type": "markdown",
   "metadata": {},
   "source": [
    "## Range()\n",
    "\n",
    "La funzione `range()` restituisce una sequenza di numeri, partendo da `0` per impostazione predefinita, incrementando di `1` (per impostazione predefinita) e si interrompe prima di un numero specificato.\n",
    "\n",
    "### Esempio\n",
    "Crea una sequenza di numeri da 0 a 5, e stampa ogni elemento nella sequenza:"
   ]
  },
  {
   "cell_type": "code",
   "execution_count": 8,
   "metadata": {},
   "outputs": [
    {
     "name": "stdout",
     "output_type": "stream",
     "text": [
      "0\n",
      "1\n",
      "2\n",
      "3\n",
      "4\n",
      "5\n"
     ]
    }
   ],
   "source": [
    "x = range(6)\n",
    "for n in x:\n",
    "  print(n)"
   ]
  },
  {
   "cell_type": "markdown",
   "metadata": {},
   "source": [
    "## Len()\n",
    "Ritorna il numero di elementi nella lista:\n",
    "\n",
    "### Esempio"
   ]
  },
  {
   "cell_type": "code",
   "execution_count": 9,
   "metadata": {},
   "outputs": [
    {
     "name": "stdout",
     "output_type": "stream",
     "text": [
      "3\n"
     ]
    }
   ],
   "source": [
    "mylist = [\"apple\", \"banana\", \"cherry\"]\n",
    "x = len(mylist)\n",
    "print(x)"
   ]
  },
  {
   "cell_type": "markdown",
   "metadata": {},
   "source": [
    "## Applicato alle liste\n",
    "Puoi anche scorrere gli elementi della lista facendo riferimento al loro numero di indice.\n",
    "\n",
    "Utilizza le funzioni range() e len() per creare un iterabile adatto.\n",
    "\n",
    "### Esempio\n",
    "Stampa tutti gli elementi facendo riferimento al loro numero di indice:"
   ]
  },
  {
   "cell_type": "code",
   "execution_count": null,
   "metadata": {},
   "outputs": [],
   "source": [
    "thislist = [\"mela\", \"banana\", \"ciliegia\"]\n",
    "for i in range(len(thislist)):\n",
    "  print(thislist[i])"
   ]
  }
 ],
 "metadata": {
  "kernelspec": {
   "display_name": "Python 3",
   "language": "python",
   "name": "python3"
  },
  "language_info": {
   "codemirror_mode": {
    "name": "ipython",
    "version": 3
   },
   "file_extension": ".py",
   "mimetype": "text/x-python",
   "name": "python",
   "nbconvert_exporter": "python",
   "pygments_lexer": "ipython3",
   "version": "3.9.13"
  }
 },
 "nbformat": 4,
 "nbformat_minor": 2
}
