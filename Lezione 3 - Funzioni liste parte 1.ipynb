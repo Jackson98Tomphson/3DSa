{
  "cells": [
    {
      "cell_type": "markdown",
      "metadata": {},
      "source": [
        "# Funzioni e manipolizione di liste\n",
        "\n",
        "In python le liste, come ogni singola classe presente nel linguaggio, hanno al loro interno delle funzioni native, che sono definite dalla seguente sintassi:\n",
        "\n",
        "`[_nome della variabile di lista_] . [_nome funzione_] ( [_inserimento di possibili input..._] )`\n",
        "\n",
        "ovvero:"
      ]
    },
    {
      "cell_type": "code",
      "execution_count": 1,
      "metadata": {},
      "outputs": [],
      "source": [
        "thislist = [\"mela\", \"banana\", \"ciliegia\"]\n",
        "\n",
        "# nome   | funzione | parentesi     tonde \n",
        "#  ||    |  ||      | ||   con input   ||\n",
        "#  ||    |  ||      | ||       ||      ||\n",
        "#  \\/    |  \\/      | \\/       \\/      \\/\n",
        "\n",
        "thislist . insert     ( 2, \"cocomero\" )"
      ]
    },
    {
      "cell_type": "markdown",
      "metadata": {},
      "source": [
        "Ora, vi sono varie funzioni a cui possiamo fare riferimento per manipolare le nostre liste, le più importanti sono:\n",
        "\n",
        "### Funzioni di inserimento di elementi:\n",
        "-   `insert()`;\n",
        "-   `append()`;\n",
        "-   `extend()`;\n",
        "-   `copy()`;\n",
        "\n",
        "### Funzioni di rimozione degli elementi:\n",
        "-   `remove()`;\n",
        "-   `pop()`;\n",
        "-   `del()`;\n",
        "-   `clear()`;\n",
        "\n",
        "### Funzioni per esaminare le liste:\n",
        "-   `range()`;\n",
        "-   `len()`;\n",
        "\n",
        "Ora vedremo assieme ogni singola funzione, poi vedremo come assieme tutte queste possano essere applicate per la manipolazione delle liste.\n",
        "\n",
        "# Inserire elementi:\n",
        "\n",
        "## Insert()\n",
        "Per inserire un nuovo elemento nella lista senza sostituire alcun valore esistente, è possibile utilizzare il metodo `insert()`.\n",
        "\n",
        "Il metodo `insert()` inserisce un elemento all'indice specificato:\n",
        "\n",
        "### Esempio\n",
        "    Per inserire \"watermelon\" come terzo elemento:"
      ]
    },
    {
      "cell_type": "code",
      "execution_count": 2,
      "metadata": {},
      "outputs": [
        {
          "name": "stdout",
          "output_type": "stream",
          "text": [
            "['mela', 'banana', 'ciliegia']\n",
            "['mela', 'banana', 'anguria', 'ciliegia']\n"
          ]
        }
      ],
      "source": [
        "thislist = [\"mela\", \"banana\", \"ciliegia\"]\n",
        "print(thislist)\n",
        "thislist.insert(2, \"anguria\")\n",
        "print(thislist)"
      ]
    },
    {
      "cell_type": "markdown",
      "metadata": {},
      "source": [
        "## Append()\n",
        "Per aggiungere un elemento alla **fine** della lista, utilizza il metodo `append()`:\n",
        "\n",
        "### Esempio\n",
        "    Utilizzando il metodo `append()` per aggiungere un elemento:"
      ]
    },
    {
      "cell_type": "code",
      "execution_count": 3,
      "metadata": {},
      "outputs": [
        {
          "name": "stdout",
          "output_type": "stream",
          "text": [
            "['mela', 'banana', 'ciliegia']\n",
            "['mela', 'banana', 'ciliegia', 'arancia']\n"
          ]
        }
      ],
      "source": [
        "thislist = [\"mela\", \"banana\", \"ciliegia\"]\n",
        "print(thislist)\n",
        "thislist.append(\"arancia\")\n",
        "print(thislist)"
      ]
    },
    {
      "cell_type": "markdown",
      "metadata": {},
      "source": [
        "## Extend()\n",
        "Per aggiungere elementi da un'altra lista alla lista corrente, utilizza il metodo `extend()`:\n",
        "\n",
        "### Esempio\n",
        "    Aggiungi gli elementi di \"tropical\" a \"thislist\":"
      ]
    },
    {
      "cell_type": "code",
      "execution_count": 4,
      "metadata": {},
      "outputs": [
        {
          "name": "stdout",
          "output_type": "stream",
          "text": [
            "['mela', 'banana', 'ciliegia', 'mango', 'ananas', 'papaya']\n"
          ]
        }
      ],
      "source": [
        "thislist = [\"mela\", \"banana\", \"ciliegia\"]\n",
        "tropical = [\"mango\", \"ananas\", \"papaya\"]\n",
        "thislist.extend(tropical)\n",
        "print(thislist)"
      ]
    },
    {
      "cell_type": "markdown",
      "metadata": {},
      "source": [
        "## Copy()\n",
        "Non è possibile copiare una lista semplicemente scrivendo `list2 = list1`.\n",
        "Questo perché: `list2` sarà solo un **riferimento** a `list1`, e le modifiche apportate a `list1` verranno automaticamente apportate anche a `list2`.\n",
        "\n",
        "Quindi con `=` **non** copiate la lista, ma copiate un \"indirizzo\" ad essa.\n",
        "\n",
        "Esistono altri modi per fare una copia, uno dei quali è utilizzare appunto il metodo `copy()` integrato.\n",
        "\n",
        "### Esempio\n",
        "    Fai una copia di una lista con il metodo `copy()`:"
      ]
    },
    {
      "cell_type": "code",
      "execution_count": 5,
      "metadata": {},
      "outputs": [
        {
          "name": "stdout",
          "output_type": "stream",
          "text": [
            "['mela', 'banana', 'ciliegia']\n"
          ]
        }
      ],
      "source": [
        "thislist = [\"mela\", \"banana\", \"ciliegia\"]\n",
        "mylist = thislist.copy()\n",
        "print(mylist)"
      ]
    },
    {
      "cell_type": "markdown",
      "metadata": {},
      "source": [
        "\n",
        "Un altro modo per fare una copia è utilizzare direttamente il costruttore `list()`.\n",
        "\n",
        "### Esempio\n",
        "    Fai una copia di una lista con il metodo `list()`:"
      ]
    },
    {
      "cell_type": "code",
      "execution_count": 6,
      "metadata": {},
      "outputs": [
        {
          "name": "stdout",
          "output_type": "stream",
          "text": [
            "['mela', 'banana', 'ciliegia']\n"
          ]
        }
      ],
      "source": [
        "thislist = [\"mela\", \"banana\", \"ciliegia\"]\n",
        "mylist = list(thislist)\n",
        "print(mylist)"
      ]
    }
  ],
  "metadata": {
    "kernelspec": {
      "display_name": "Python 3",
      "language": "python",
      "name": "python3"
    },
    "language_info": {
      "codemirror_mode": {
        "name": "ipython",
        "version": 3
      },
      "file_extension": ".py",
      "mimetype": "text/x-python",
      "name": "python",
      "nbconvert_exporter": "python",
      "pygments_lexer": "ipython3",
      "version": "3.9.13"
    }
  },
  "nbformat": 4,
  "nbformat_minor": 4
}
