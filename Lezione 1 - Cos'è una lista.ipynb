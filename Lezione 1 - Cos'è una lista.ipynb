{
  "cells": [
    {
      "cell_type": "markdown",
      "metadata": {},
      "source": [
        "# Lista in Python\n",
        "    mylist = [\"apple\", \"banana\", \"cherry\"]"
      ]
    },
    {
      "cell_type": "markdown",
      "metadata": {},
      "source": [
        "## Liste\n",
        "Le liste sono utilizzate per memorizzare più elementi in una singola variabile.\n",
        "\n",
        "Le liste sono uno dei 4 tipi di dati incorporati in Python utilizzati per memorizzare raccolte di dati, gli altri 3 sono Tuple, Set e Dictionary, ognuno con diverse caratteristiche e utilizzi.\n",
        "\n",
        "Le liste vengono create utilizzando le parentesi quadre:\n",
        "\n",
        "### Esempio\n",
        "    Creare una lista:"
      ]
    },
    {
      "cell_type": "code",
      "execution_count": 1,
      "metadata": {
        "trusted": true
      },
      "outputs": [
        {
          "name": "stdout",
          "output_type": "stream",
          "text": [
            "['mela', 'banana', 'ciliegia']\n"
          ]
        }
      ],
      "source": [
        "thislist = [\"mela\", \"banana\", \"ciliegia\"]\n",
        "print(thislist)"
      ]
    },
    {
      "cell_type": "markdown",
      "metadata": {},
      "source": [
        "# Elementi della lista\n",
        "Gli elementi della lista sono ordinati, modificabili e consentono valori duplicati.\n",
        "Tali elementi della lista sono anche **indicizzati** e il primo elemento ha l'indice [0], il secondo l'indice [1] e così via."
      ]
    },
    {
      "cell_type": "code",
      "execution_count": 2,
      "metadata": {
        "trusted": true
      },
      "outputs": [
        {
          "name": "stdout",
          "output_type": "stream",
          "text": [
            "banana\n"
          ]
        }
      ],
      "source": [
        "print(thislist[1]) {1,2,34,5,3}"
      ]
    },
    {
      "cell_type": "markdown",
      "metadata": {},
      "source": [
        "## Ordinati\n",
        "Quando diciamo che le liste sono ordinate, significa che gli elementi hanno un ordine definito e quell'ordine non cambierà.\n",
        "\n",
        "Se aggiungi nuovi elementi a una lista, essi saranno posizionati alla fine della lista.\n",
        "\n",
        "**NB: Tale ordine non è un ordine in senso numerico o di altra natura, ma è un posizionamento dell'elemento all'interno della lista**\n",
        "## Modificabili\n",
        "La lista è modificabile, il che significa che possiamo cambiare, aggiungere e rimuovere elementi da una lista dopo che è stata creata.\n",
        "\n",
        "## Consentono duplicati\n",
        "Poiché le liste sono indicizzate, le liste possono avere elementi con lo stesso valore.\n",
        "\n",
        "### Esempio\n",
        "    Le liste consentono valori duplicati:"
      ]
    },
    {
      "cell_type": "code",
      "execution_count": 3,
      "metadata": {
        "trusted": true
      },
      "outputs": [
        {
          "name": "stdout",
          "output_type": "stream",
          "text": [
            "['mela', 'banana', 'ciliegia', 'mela', 'ciliegia']\n"
          ]
        }
      ],
      "source": [
        "thislist = [\"mela\", \"banana\", \"ciliegia\", \"mela\", \"ciliegia\"]\n",
        "print(thislist)"
      ]
    },
    {
      "cell_type": "markdown",
      "metadata": {},
      "source": [
        "## Lunghezza della lista\n",
        "Per determinare quante voci ha una lista, utilizza la funzione len():\n",
        "\n",
        "### Esempio\n",
        "    Stampare il numero di voci nella lista:"
      ]
    },
    {
      "cell_type": "code",
      "execution_count": 4,
      "metadata": {
        "trusted": true
      },
      "outputs": [
        {
          "name": "stdout",
          "output_type": "stream",
          "text": [
            "3\n"
          ]
        }
      ],
      "source": [
        "thislist = [\"mela\", \"banana\", \"ciliegia\"]\n",
        "print(len(thislist))"
      ]
    },
    {
      "cell_type": "markdown",
      "metadata": {},
      "source": [
        "## Elementi della lista - Tipi di dati\n",
        "Gli elementi della lista possono essere di qualsiasi tipo di dati:\n",
        "\n",
        "### Esempio\n",
        "    Stringhe, interi e valori booleani:"
      ]
    },
    {
      "cell_type": "code",
      "execution_count": 5,
      "metadata": {
        "trusted": true
      },
      "outputs": [],
      "source": [
        "list1 = [\"mela\", \"banana\", \"ciliegia\"]\n",
        "list2 = [1, 5, 7, 9, 3]\n",
        "list3 = [True, False, False]"
      ]
    },
    {
      "cell_type": "markdown",
      "metadata": {},
      "source": [
        "Una lista può contenere diversi tipi di dati:\n",
        "\n",
        "### Esempio\n",
        "    Una lista con stringhe, interi e valori booleani:"
      ]
    },
    {
      "cell_type": "code",
      "execution_count": 7,
      "metadata": {
        "trusted": true
      },
      "outputs": [
        {
          "name": "stdout",
          "output_type": "stream",
          "text": [
            "['abc', 34, True, 40, 'maschio']\n"
          ]
        }
      ],
      "source": [
        "list1 = [\"abc\", 34, True, 40, \"maschio\"]\n",
        "print(list1)"
      ]
    },
    {
      "cell_type": "markdown",
      "metadata": {},
      "source": [
        "## Tipo()\n",
        "Dal punto di vista di Python, le liste sono definite come oggetti con il tipo di dati 'list':\n",
        "\n",
        "### Esempio\n",
        "    Qual è il tipo di dati di una lista?"
      ]
    },
    {
      "cell_type": "code",
      "execution_count": 8,
      "metadata": {
        "trusted": true
      },
      "outputs": [
        {
          "name": "stdout",
          "output_type": "stream",
          "text": [
            "<class 'list'>\n"
          ]
        }
      ],
      "source": [
        "mylist = [\"mela\", \"banana\", \"ciliegia\"]\n",
        "print(type(mylist))"
      ]
    },
    {
      "cell_type": "markdown",
      "metadata": {},
      "source": [
        "## Il costruttore list()\n",
        "È anche possibile utilizzare il costruttore list() quando si crea una nuova lista.\n",
        "\n",
        "### Esempio\n",
        "    Utilizzare il costruttore list() per creare una lista:"
      ]
    },
    {
      "cell_type": "code",
      "execution_count": 9,
      "metadata": {
        "trusted": true
      },
      "outputs": [
        {
          "name": "stdout",
          "output_type": "stream",
          "text": [
            "['mela', 'banana', 'ciliegia']\n"
          ]
        }
      ],
      "source": [
        "thislist = list((\"mela\", \"banana\", \"ciliegia\")) # nota le doppie parentesi tonde\n",
        "print(thislist)"
      ]
    },
    {
      "cell_type": "markdown",
      "metadata": {},
      "source": [
        "## Collezioni Python \n",
        "Esistono quattro tipi di dati di collezione nel linguaggio di programmazione Python:\n",
        "\n",
        "- La lista è una collezione ordinata e modificabile. Consente membri duplicati.\n",
        "- La tupla è una collezione ordinata e immutabile. Consente membri duplicati.\n",
        "- Il set è una collezione disordinata, immutabile* e non indicizzata. Non ammette membri duplicati.\n",
        "- Il dizionario è una collezione ordinata** e modificabile. Non ammette membri duplicati.\n",
        "\n",
        "*Gli elementi del set sono immutabili, ma è possibile rimuovere e/o aggiungere elementi quando si desidera.\n",
        "\n",
        "**A partire dalla versione 3.7 di Python, i dizionari sono ordinati. Nelle versioni di Python 3.6 e precedenti, i dizionari sono disordinati."
      ]
    }
  ],
  "metadata": {
    "kernelspec": {
      "display_name": "Python 3",
      "language": "python",
      "name": "python3"
    },
    "language_info": {
      "codemirror_mode": {
        "name": "ipython",
        "version": 3
      },
      "file_extension": ".py",
      "mimetype": "text/x-python",
      "name": "python",
      "nbconvert_exporter": "python",
      "pygments_lexer": "ipython3",
      "version": "3.10.4"
    }
  },
  "nbformat": 4,
  "nbformat_minor": 4
}
