{
  "cells": [
    {
      "cell_type": "markdown",
      "metadata": {},
      "source": [
        "# Python - Accesso agli Elementi delle Liste\n",
        "## Accesso agli Elementi\n",
        "Gli elementi delle liste sono indicizzati e puoi accedervi facendo riferimento al numero di indice:\n",
        "\n",
        "### Esempio"
      ]
    },
    {
      "cell_type": "code",
      "execution_count": 2,
      "metadata": {
        "trusted": true
      },
      "outputs": [
        {
          "name": "stdout",
          "output_type": "stream",
          "text": [
            "banana\n"
          ]
        }
      ],
      "source": [
        "thislist = [\"mela\", \"banana\", \"ciliegia\"]\n",
        "print(thislist[1])"
      ]
    },
    {
      "cell_type": "markdown",
      "metadata": {},
      "source": [
        "Ovvio che non puoi accedere ad elementi superiori"
      ]
    },
    {
      "cell_type": "code",
      "execution_count": 3,
      "metadata": {
        "trusted": true
      },
      "outputs": [
        {
          "ename": "IndexError",
          "evalue": "list index out of range",
          "output_type": "error",
          "traceback": [
            "\u001b[1;31m---------------------------------------------------------------------------\u001b[0m",
            "\u001b[1;31mIndexError\u001b[0m                                Traceback (most recent call last)",
            "\u001b[1;32mc:\\Users\\jacks\\Desktop\\Lezioni Liste\\Lezione 2.ipynb Cell 4\u001b[0m line \u001b[0;36m1\n\u001b[1;32m----> <a href='vscode-notebook-cell:/c%3A/Users/jacks/Desktop/Lezioni%20Liste/Lezione%202.ipynb#W3sZmlsZQ%3D%3D?line=0'>1</a>\u001b[0m \u001b[39mprint\u001b[39m(thislist[\u001b[39m3\u001b[39;49m])\n",
            "\u001b[1;31mIndexError\u001b[0m: list index out of range"
          ]
        }
      ],
      "source": [
        "print(thislist[3])"
      ]
    },
    {
      "cell_type": "markdown",
      "metadata": {},
      "source": [
        "## Indice Negativo"
      ]
    },
    {
      "cell_type": "markdown",
      "metadata": {},
      "source": [
        "L'indicizzazione negativa significa partire dalla fine.\n",
        "\n",
        "-1 si riferisce all'ultimo elemento, -2 si riferisce al penultimo elemento, e così via.\n",
        "\n",
        "### Esempio"
      ]
    },
    {
      "cell_type": "code",
      "execution_count": 4,
      "metadata": {
        "trusted": true
      },
      "outputs": [
        {
          "name": "stdout",
          "output_type": "stream",
          "text": [
            "banana\n"
          ]
        }
      ],
      "source": [
        "print(thislist[-1])"
      ]
    },
    {
      "cell_type": "markdown",
      "metadata": {},
      "source": [
        "## Intervallo di Indici\n",
        "Puoi specificare un intervallo di indici specificando da dove iniziare e terminare l'intervallo.\n",
        "\n",
        "Quando specifici un intervallo, il valore restituito sarà una nuova lista con gli elementi specificati.\n",
        "\n",
        "**NB: il primo elemento è preso, l'ultimo no**\n",
        "\n",
        "### Esempio"
      ]
    },
    {
      "cell_type": "code",
      "execution_count": 5,
      "metadata": {
        "trusted": true
      },
      "outputs": [
        {
          "name": "stdout",
          "output_type": "stream",
          "text": [
            "['ciliegia', 'arancia', 'kiwi']\n"
          ]
        }
      ],
      "source": [
        "thislist = [\"mela\", \"banana\", \"ciliegia\", \"arancia\", \"kiwi\", \"melone\", \"mango\"]\n",
        "print(thislist[2:5])"
      ]
    },
    {
      "cell_type": "markdown",
      "metadata": {},
      "source": [
        "Nota: La ricerca inizierà all'indice 2 (incluso) e terminerà all'indice 5 (non incluso).\n",
        "\n",
        "Ricorda che il primo elemento ha l'indice 0.\n",
        "\n",
        "Lasciando fuori il valore di inizio, l'intervallo inizierà dal primo elemento.\n",
        "### Esempio"
      ]
    },
    {
      "cell_type": "code",
      "execution_count": 6,
      "metadata": {
        "trusted": true
      },
      "outputs": [
        {
          "name": "stdout",
          "output_type": "stream",
          "text": [
            "['mela', 'banana', 'ciliegia', 'arancia']\n"
          ]
        }
      ],
      "source": [
        "thislist = [\"mela\", \"banana\", \"ciliegia\", \"arancia\", \"kiwi\", \"melone\", \"mango\"]\n",
        "print(thislist[:4])"
      ]
    },
    {
      "cell_type": "markdown",
      "metadata": {},
      "source": [
        "Lasciando fuori il valore di fine, l'intervallo si estenderà fino alla fine della lista.\n",
        "\n",
        "### Esempio"
      ]
    },
    {
      "cell_type": "code",
      "execution_count": 7,
      "metadata": {
        "trusted": true
      },
      "outputs": [
        {
          "name": "stdout",
          "output_type": "stream",
          "text": [
            "['ciliegia', 'arancia', 'kiwi', 'melone', 'mango']\n"
          ]
        }
      ],
      "source": [
        "thislist = [\"mela\", \"banana\", \"ciliegia\", \"arancia\", \"kiwi\", \"melone\", \"mango\"]\n",
        "print(thislist[2:])"
      ]
    },
    {
      "cell_type": "markdown",
      "metadata": {},
      "source": [
        "## Intervallo di Indici Negativi\n",
        "Specifica indici negativi se desideri iniziare la ricerca dalla fine della lista.\n",
        "\n",
        "### Esempio"
      ]
    },
    {
      "cell_type": "code",
      "execution_count": 8,
      "metadata": {
        "trusted": true
      },
      "outputs": [
        {
          "name": "stdout",
          "output_type": "stream",
          "text": [
            "['arancia', 'kiwi', 'melone']\n"
          ]
        }
      ],
      "source": [
        "thislist = [\"mela\", \"banana\", \"ciliegia\", \"arancia\", \"kiwi\", \"melone\", \"mango\"]\n",
        "print(thislist[-4:-1])"
      ]
    },
    {
      "cell_type": "markdown",
      "metadata": {},
      "source": [
        "## Verifica la Presenza di un Elemento\n",
        "Per determinare se un elemento specificato è presente in una lista, utilizza la parola chiave `in`.\n",
        "\n",
        "### Esempio"
      ]
    },
    {
      "cell_type": "code",
      "execution_count": null,
      "metadata": {
        "trusted": true
      },
      "outputs": [],
      "source": [
        "thislist = [\"mela\", \"banana\", \"ciliegia\"]\n",
        "if \"mela\" in thislist:\n",
        "  print(\"Sì, 'mela' è nella lista dei frutti\")"
      ]
    },
    {
      "cell_type": "markdown",
      "metadata": {},
      "source": [
        "### Le stringhe sono Liste?"
      ]
    },
    {
      "cell_type": "code",
      "execution_count": 1,
      "metadata": {},
      "outputs": [
        {
          "name": "stdout",
          "output_type": "stream",
          "text": [
            "e\n"
          ]
        }
      ],
      "source": [
        "print(\"mela\"[1])"
      ]
    }
  ],
  "metadata": {
    "kernelspec": {
      "display_name": "Python 3",
      "language": "python",
      "name": "python3"
    },
    "language_info": {
      "codemirror_mode": {
        "name": "ipython",
        "version": 3
      },
      "file_extension": ".py",
      "mimetype": "text/x-python",
      "name": "python",
      "nbconvert_exporter": "python",
      "pygments_lexer": "ipython3",
      "version": "3.10.4"
    }
  },
  "nbformat": 4,
  "nbformat_minor": 4
}
